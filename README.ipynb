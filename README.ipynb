{
  "nbformat": 4,
  "nbformat_minor": 5,
  "metadata": {
    "noteable-chatgpt": {
      "create_notebook": {
        "openai_conversation_id": "2e135e90-3ce6-50c4-a8a4-09f8e8519434",
        "openai_ephemeral_user_id": "b6db90b7-0c88-5d31-8f82-68242b1d2898"
      }
    },
    "noteable": {
      "last_transaction_id": "7f58eaef-e7e0-4f93-9a01-9d567014011b"
    },
    "selected_hardware_size": "small"
  },
  "cells": [
    {
      "id": "a7c66ec5-aaab-4d07-93c7-5aad20eb855f",
      "cell_type": "code",
      "metadata": {
        "jupyter": {
          "outputs_hidden": false,
          "source_hidden": false
        },
        "noteable": {
          "cell_type": "code"
        }
      },
      "execution_count": null,
      "source": "",
      "outputs": []
    },
    {
      "id": "35c4a292-9a66-41ca-af5b-7874765fa914",
      "cell_type": "markdown",
      "source": "# Happy Insurance Project\n\nThis is the README for the Happy Insurance Project. The project details, structure, and other relevant information will be updated here.\n\n## Project Overview\n\nThe Happy Insurance Project is a data analysis and visualization project. The aim of the project is to analyze and visualize the data related to insurance. The project uses various tools and technologies like SQL for data manipulation, Power Query for data extraction and transformation, and Power BI for data visualization.\n\n## Project Structure\n\nThe project is organized as follows:\n\n- **SQL Happyinsurance DB creation.sql**: This SQL script is used to create the database for the project.\n- **Power query _ power view HappyInsurance.xlsx**: This Excel file uses Power Query to extract and transform the data.\n- **HappyInsurance - Dax querys.dax**: This file contains DAX (Data Analysis Expressions) queries used in the project.\n- **HappyInsurance PBI dashboard.pbix**: This is the Power BI file that contains the data visualization dashboard for the project.\n- **HappyInsurance Presentation- PBI.pptx**: This PowerPoint presentation provides an overview of the project and the insights derived from the data.\n\n## Tools\n\nThis project uses several tools, including SQL for data manipulation, Power Query for data extraction and transformation, and Power BI for data visualization.",
      "metadata": {
        "noteable": {
          "cell_type": "markdown"
        }
      }
    }
  ]
}